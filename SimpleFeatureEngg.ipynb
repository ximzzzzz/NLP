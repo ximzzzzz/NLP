{
 "cells": [
  {
   "cell_type": "code",
   "execution_count": 1,
   "metadata": {},
   "outputs": [],
   "source": [
    "import numpy as np\n",
    "import pandas as pd\n",
    "import matplotlib.pyplot as plt\n",
    "import seaborn as sns\n",
    "import nltk\n",
    "from nltk.corpus import stopwords\n",
    "import string\n",
    "import xgboost as xgb\n",
    "from sklearn.feature_extraction.text import TfidfVectorizer, CountVectorizer\n",
    "from sklearn.decomposition import TruncatedSVD\n",
    "from sklearn import ensemble, metrics, model_selection, naive_bayes\n",
    "color = sns.color_palette()\n",
    "\n",
    "%matplotlib inline\n",
    "\n",
    "eng_stopwords = set(stopwords.words('english'))\n",
    "pd.options.mode.chained_assignment = None"
   ]
  },
  {
   "cell_type": "code",
   "execution_count": 2,
   "metadata": {},
   "outputs": [
    {
     "name": "stdout",
     "output_type": "stream",
     "text": [
      "Number of rows in train dataset :  19579\n",
      "Number of rows in test dataset :  8392\n"
     ]
    }
   ],
   "source": [
    "train_df = pd.read_csv('data/train/train.csv')\n",
    "test_df = pd.read_csv('data/test/test.csv')\n",
    "print('Number of rows in train dataset : ', train_df.shape[0])\n",
    "print('Number of rows in test dataset : ', test_df.shape[0])"
   ]
  },
  {
   "cell_type": "code",
   "execution_count": 3,
   "metadata": {},
   "outputs": [
    {
     "data": {
      "image/png": "[encoded data removed]",
      "text/plain": [
       "<Figure size 576x288 with 1 Axes>"
      ]
     },
     "metadata": {
      "needs_background": "light"
     },
     "output_type": "display_data"
    }
   ],
   "source": [
    "cnt_srs = train_df['author'].value_counts()\n",
    "\n",
    "plt.figure(figsize=(8,4))\n",
    "sns.barplot(cnt_srs.index, cnt_srs.values, alpha = 0.8)\n",
    "plt.ylabel('Number of Occurrences', fontsize=12)\n",
    "plt.xlabel('Author Name', fontsize=12)\n",
    "plt.show()"
   ]
  },
  {
   "cell_type": "code",
   "execution_count": 4,
   "metadata": {
    "scrolled": true
   },
   "outputs": [
    {
     "name": "stdout",
     "output_type": "stream",
     "text": [
      "Author name :  EAP\n",
      "This process, however, afforded me no means of ascertaining the dimensions of my dungeon; as I might make its circuit, and return to the point whence I set out, without being aware of the fact; so perfectly uniform seemed the wall.\n",
      "In his left hand was a gold snuff box, from which, as he capered down the hill, cutting all manner of fantastic steps, he took snuff incessantly with an air of the greatest possible self satisfaction.\n",
      "The astronomer, perhaps, at this point, took refuge in the suggestion of non luminosity; and here analogy was suddenly let fall.\n",
      "The surcingle hung in ribands from my body.\n",
      "I knew that you could not say to yourself 'stereotomy' without being brought to think of atomies, and thus of the theories of Epicurus; and since, when we discussed this subject not very long ago, I mentioned to you how singularly, yet with how little notice, the vague guesses of that noble Greek had met with confirmation in the late nebular cosmogony, I felt that you could not avoid casting your eyes upward to the great nebula in Orion, and I certainly expected that you would do so.\n",
      "\n",
      "\n",
      "Author name :  HPL\n",
      "It never once occurred to me that the fumbling might be a mere mistake.\n",
      "Finding nothing else, not even gold, the Superintendent abandoned his attempts; but a perplexed look occasionally steals over his countenance as he sits thinking at his desk.\n",
      "Herbert West needed fresh bodies because his life work was the reanimation of the dead.\n",
      "The farm like grounds extended back very deeply up the hill, almost to Wheaton Street.\n",
      "His facial aspect, too, was remarkable for its maturity; for though he shared his mother's and grandfather's chinlessness, his firm and precociously shaped nose united with the expression of his large, dark, almost Latin eyes to give him an air of quasi adulthood and well nigh preternatural intelligence.\n",
      "\n",
      "\n",
      "Author name :  MWS\n",
      "How lovely is spring As we looked from Windsor Terrace on the sixteen fertile counties spread beneath, speckled by happy cottages and wealthier towns, all looked as in former years, heart cheering and fair.\n",
      "A youth passed in solitude, my best years spent under your gentle and feminine fosterage, has so refined the groundwork of my character that I cannot overcome an intense distaste to the usual brutality exercised on board ship: I have never believed it to be necessary, and when I heard of a mariner equally noted for his kindliness of heart and the respect and obedience paid to him by his crew, I felt myself peculiarly fortunate in being able to secure his services.\n",
      "I confess that neither the structure of languages, nor the code of governments, nor the politics of various states possessed attractions for me.\n",
      "He shall find that I can feel my injuries; he shall learn to dread my revenge\" A few days after he arrived.\n",
      "He had escaped me, and I must commence a destructive and almost endless journey across the mountainous ices of the ocean, amidst cold that few of the inhabitants could long endure and which I, the native of a genial and sunny climate, could not hope to survive.\n",
      "\n",
      "\n"
     ]
    }
   ],
   "source": [
    "grouped_df = train_df.groupby('author')\n",
    "for name, group in grouped_df:\n",
    "    print('Author name : ', name)\n",
    "    cnt = 0\n",
    "    for ind, row in group.iterrows():\n",
    "        print(row['text'])\n",
    "        cnt+=1\n",
    "        if cnt==5:\n",
    "            break\n",
    "    print('\\n')"
   ]
  },
  {
   "cell_type": "markdown",
   "metadata": {},
   "source": [
    "### feature engineering\n",
    "- Meta features"
   ]
  },
  {
   "cell_type": "code",
   "execution_count": 5,
   "metadata": {
    "scrolled": true
   },
   "outputs": [],
   "source": [
    "train_df['num_words'] = train_df['text'].apply(lambda x : len(str(x).split()))\n",
    "test_df['num_words'] = test_df['text'].apply(lambda x : len(str(x).split()))\n",
    "\n",
    "train_df['num_unique_words'] = train_df['text'].apply(lambda x: len(set(str(x).split())))\n",
    "test_df['num_unique_words'] = test_df['text'].apply(lambda x: len(set(str(x).split())))\n",
    "\n",
    "train_df['num_chars'] = train_df['text'].apply(lambda x : len(str(x)))\n",
    "test_df['num_chars'] = test_df['text'].apply(lambda x : len(str(x)))\n",
    "\n",
    "train_df['num_stopwords'] = train_df['text'].apply(lambda x : len([w for w in str(x).lower().split() if w in eng_stopwords]))\n",
    "test_df['num_stopwords'] = test_df['text'].apply(lambda x : len([w for w in str(x).lower().split() if w in eng_stopwords]))\n",
    "\n",
    "train_df['num_punctuations'] = train_df['text'].apply(lambda x : len([c for c in str(x) if c in string.punctuation]))\n",
    "test_df['num_punctuations'] = test_df['text'].apply(lambda x: len([c for c in str(x) if c in string.punctuation]))\n",
    "\n",
    "train_df['num_words_upper'] = train_df['text'].apply(lambda x : len([w for w in str(x).split() if w.isupper()]))\n",
    "test_df['num_words_upper'] = test_df['text'].apply(lambda x : len([w for w in str(x).split() if w.isupper()]))\n",
    "\n",
    "train_df['num_words_title'] = train_df['text'].apply(lambda x : len([w for w in str(x).split() if w.istitle()]))\n",
    "test_df['num_words_title'] = test_df['text'].apply(lambda x : len([w for w in str(x).split() if w.istitle()]))\n",
    "\n",
    "train_df['mean_word_len'] = train_df['text'].apply(lambda x : np.mean([len(w) for w in str(x).split()]))\n",
    "test_df['mean_word_len'] = test_df['text'].apply(lambda x : np.mean([len(w) for w in str(x).split()]))"
   ]
  },
  {
   "cell_type": "code",
   "execution_count": 6,
   "metadata": {},
   "outputs": [
    {
     "data": {
      "image/png": "[encoded data removed]",
      "text/plain": [
       "<Figure size 864x576 with 1 Axes>"
      ]
     },
     "metadata": {
      "needs_background": "light"
     },
     "output_type": "display_data"
    }
   ],
   "source": [
    "train_df['num_words'].loc[train_df['num_words'] > 80] = 80\n",
    "plt.figure(figsize=(12,8))\n",
    "sns.violinplot(x = 'author', y = 'num_words', data=train_df)\n",
    "plt.xlabel('Author name' , fontsize=12)\n",
    "plt.ylabel('Number of words in text', fontsize=12)\n",
    "plt.title('Number of words by author', fontsize=15)\n",
    "plt.show()"
   ]
  },
  {
   "cell_type": "code",
   "execution_count": 7,
   "metadata": {},
   "outputs": [
    {
     "data": {
      "image/png": "[encoded data removed]",
      "text/plain": [
       "<Figure size 864x576 with 1 Axes>"
      ]
     },
     "metadata": {
      "needs_background": "light"
     },
     "output_type": "display_data"
    }
   ],
   "source": [
    "train_df['num_punctuations'].loc[train_df['num_punctuations'] > 10] = 10\n",
    "plt.figure(figsize=(12,8))\n",
    "sns.violinplot( x = 'author', y = 'num_punctuations', data = train_df)\n",
    "plt.xlabel('Author name' , fontsize=12)\n",
    "plt.ylabel('Number of Punctuations in text', fontsize=12)\n",
    "plt.title('Number of Punctuations by author', fontsize=15)\n",
    "plt.show()"
   ]
  },
  {
   "cell_type": "code",
   "execution_count": 8,
   "metadata": {
    "scrolled": true
   },
   "outputs": [],
   "source": [
    "#prepare the data for modeling\n",
    "author_mapping_dict = {'EAP' : 0, 'HPL' : 1, 'MWS' : 2}\n",
    "train_y = train_df['author'].map(author_mapping_dict)\n",
    "train_id = train_df['id'].values\n",
    "test_id = test_df['id'].values\n",
    "\n",
    "train_df['num_words'] = train_df['text'].apply(lambda x : len(str(x).split()))\n",
    "test_df['num_words'] = test_df['text'].apply(lambda x : len(str(x).split()))\n",
    "train_df['mean_word_len'] = train_df['text'].apply(lambda x : np.mean([len(w) for w in str(x).split()]))\n",
    "test_df['mean_word_len'] = test_df['text'].apply(lambda x : np.mean([len(w) for w in str(x).split()]))\n",
    "\n",
    "cols_to_drop = ['id', 'text']\n",
    "train_x = train_df.drop(cols_to_drop+['author'], axis = 1)\n",
    "test_x = test_df.drop(cols_to_drop, axis =  1)"
   ]
  },
  {
   "cell_type": "code",
   "execution_count": 9,
   "metadata": {},
   "outputs": [],
   "source": [
    "# Modelling XGB with only metadata\n",
    "\n",
    "def runXGB(train_x, train_y, test_x, test_y=None, test_x2 = None, seed_val=0, child=1, colsample=0.3):\n",
    "    param = {}\n",
    "    param['objective'] = 'multi:softprob'\n",
    "    param['eta'] = 0.1\n",
    "    param['max_depth'] = 3\n",
    "    param['slient'] = 1\n",
    "    param['num_class'] = 3\n",
    "    param['eval_metric'] = 'mlogloss'\n",
    "    param['min_child_weight'] = child\n",
    "    param['subsample'] = 0.8\n",
    "    param['colsample_bytree'] = colsample\n",
    "    param['seed'] = seed_val\n",
    "    num_rounds = 2000\n",
    "    \n",
    "    plst = list(param.items())\n",
    "    xgtrain = xgb.DMatrix(train_x, label = train_y)\n",
    "    \n",
    "    if test_y is not None:\n",
    "        xgtest = xgb.DMatrix(test_x, label= test_y)\n",
    "        watchlist = [(xgtrain, 'train'), (xgtest, 'test')]\n",
    "        model = xgb.train(plst, xgtrain, num_rounds, watchlist, early_stopping_rounds = 50, verbose_eval=50)\n",
    "    \n",
    "    else:\n",
    "        xgtest = xgb.DMatrix(test_x)\n",
    "        model = xgb.train(plst, xgtrain, num_rounds)\n",
    "        \n",
    "    pred_test_y = model.predict(xgtest, ntree_limit = model.best_ntree_limit)\n",
    "    \n",
    "    if test_x2 is not None:\n",
    "        xgtest2 = xgb.DMatrix(test_x2)\n",
    "        pred_test_y2 = model.predict(xgtest2, ntree_limit = model.best_ntree_limit)\n",
    "    \n",
    "    return pred_test_y, pred_test_y2, model"
   ]
  },
  {
   "cell_type": "code",
   "execution_count": 10,
   "metadata": {
    "scrolled": true
   },
   "outputs": [
    {
     "name": "stdout",
     "output_type": "stream",
     "text": [
      "[0]\ttrain-mlogloss:1.09384\ttest-mlogloss:1.09472\n",
      "Multiple eval metrics have been passed: 'test-mlogloss' will be used for early stopping.\n",
      "\n",
      "Will train until test-mlogloss hasn't improved in 50 rounds.\n",
      "[50]\ttrain-mlogloss:1.01790\ttest-mlogloss:1.03469\n",
      "[100]\ttrain-mlogloss:0.98938\ttest-mlogloss:1.01345\n",
      "[150]\ttrain-mlogloss:0.97329\ttest-mlogloss:1.00366\n",
      "[200]\ttrain-mlogloss:0.96141\ttest-mlogloss:0.99788\n",
      "[250]\ttrain-mlogloss:0.95198\ttest-mlogloss:0.99457\n",
      "[300]\ttrain-mlogloss:0.94402\ttest-mlogloss:0.99235\n",
      "[350]\ttrain-mlogloss:0.93681\ttest-mlogloss:0.99061\n",
      "[400]\ttrain-mlogloss:0.93020\ttest-mlogloss:0.98917\n",
      "[450]\ttrain-mlogloss:0.92468\ttest-mlogloss:0.98877\n",
      "Stopping. Best iteration:\n",
      "[447]\ttrain-mlogloss:0.92505\ttest-mlogloss:0.98876\n",
      "\n",
      "[0]\ttrain-mlogloss:1.09415\ttest-mlogloss:1.09400\n",
      "Multiple eval metrics have been passed: 'test-mlogloss' will be used for early stopping.\n",
      "\n",
      "Will train until test-mlogloss hasn't improved in 50 rounds.\n",
      "[50]\ttrain-mlogloss:1.01987\ttest-mlogloss:1.02229\n",
      "[100]\ttrain-mlogloss:0.99249\ttest-mlogloss:1.00132\n",
      "[150]\ttrain-mlogloss:0.97635\ttest-mlogloss:0.99243\n",
      "[200]\ttrain-mlogloss:0.96483\ttest-mlogloss:0.98731\n",
      "[250]\ttrain-mlogloss:0.95585\ttest-mlogloss:0.98407\n",
      "[300]\ttrain-mlogloss:0.94830\ttest-mlogloss:0.98218\n",
      "[350]\ttrain-mlogloss:0.94092\ttest-mlogloss:0.97918\n",
      "[400]\ttrain-mlogloss:0.93437\ttest-mlogloss:0.97723\n",
      "[450]\ttrain-mlogloss:0.92908\ttest-mlogloss:0.97679\n",
      "[500]\ttrain-mlogloss:0.92429\ttest-mlogloss:0.97716\n",
      "Stopping. Best iteration:\n",
      "[451]\ttrain-mlogloss:0.92894\ttest-mlogloss:0.97670\n",
      "\n",
      "[0]\ttrain-mlogloss:1.09405\ttest-mlogloss:1.09451\n",
      "Multiple eval metrics have been passed: 'test-mlogloss' will be used for early stopping.\n",
      "\n",
      "Will train until test-mlogloss hasn't improved in 50 rounds.\n",
      "[50]\ttrain-mlogloss:1.01786\ttest-mlogloss:1.03310\n",
      "[100]\ttrain-mlogloss:0.98890\ttest-mlogloss:1.01426\n",
      "[150]\ttrain-mlogloss:0.97279\ttest-mlogloss:1.00522\n",
      "[200]\ttrain-mlogloss:0.96090\ttest-mlogloss:0.99884\n",
      "[250]\ttrain-mlogloss:0.95187\ttest-mlogloss:0.99580\n",
      "[300]\ttrain-mlogloss:0.94442\ttest-mlogloss:0.99310\n",
      "[350]\ttrain-mlogloss:0.93714\ttest-mlogloss:0.99040\n",
      "[400]\ttrain-mlogloss:0.93071\ttest-mlogloss:0.98886\n",
      "[450]\ttrain-mlogloss:0.92558\ttest-mlogloss:0.98803\n",
      "[500]\ttrain-mlogloss:0.92088\ttest-mlogloss:0.98794\n",
      "Stopping. Best iteration:\n",
      "[466]\ttrain-mlogloss:0.92383\ttest-mlogloss:0.98761\n",
      "\n",
      "[0]\ttrain-mlogloss:1.09415\ttest-mlogloss:1.09432\n",
      "Multiple eval metrics have been passed: 'test-mlogloss' will be used for early stopping.\n",
      "\n",
      "Will train until test-mlogloss hasn't improved in 50 rounds.\n",
      "[50]\ttrain-mlogloss:1.01973\ttest-mlogloss:1.02721\n",
      "[100]\ttrain-mlogloss:0.99112\ttest-mlogloss:1.00636\n",
      "[150]\ttrain-mlogloss:0.97483\ttest-mlogloss:0.99752\n",
      "[200]\ttrain-mlogloss:0.96298\ttest-mlogloss:0.99176\n",
      "[250]\ttrain-mlogloss:0.95411\ttest-mlogloss:0.98936\n",
      "[300]\ttrain-mlogloss:0.94598\ttest-mlogloss:0.98705\n",
      "[350]\ttrain-mlogloss:0.93885\ttest-mlogloss:0.98520\n",
      "[400]\ttrain-mlogloss:0.93214\ttest-mlogloss:0.98387\n",
      "[450]\ttrain-mlogloss:0.92665\ttest-mlogloss:0.98368\n",
      "[500]\ttrain-mlogloss:0.92165\ttest-mlogloss:0.98389\n",
      "[550]\ttrain-mlogloss:0.91718\ttest-mlogloss:0.98301\n",
      "[600]\ttrain-mlogloss:0.91256\ttest-mlogloss:0.98261\n",
      "Stopping. Best iteration:\n",
      "[597]\ttrain-mlogloss:0.91276\ttest-mlogloss:0.98250\n",
      "\n",
      "[0]\ttrain-mlogloss:1.09453\ttest-mlogloss:1.09456\n",
      "Multiple eval metrics have been passed: 'test-mlogloss' will be used for early stopping.\n",
      "\n",
      "Will train until test-mlogloss hasn't improved in 50 rounds.\n",
      "[50]\ttrain-mlogloss:1.01604\ttest-mlogloss:1.02414\n",
      "[100]\ttrain-mlogloss:0.99188\ttest-mlogloss:1.00466\n",
      "[150]\ttrain-mlogloss:0.97769\ttest-mlogloss:0.99562\n",
      "[200]\ttrain-mlogloss:0.96598\ttest-mlogloss:0.99025\n",
      "[250]\ttrain-mlogloss:0.95666\ttest-mlogloss:0.98582\n",
      "[300]\ttrain-mlogloss:0.94848\ttest-mlogloss:0.98299\n",
      "[350]\ttrain-mlogloss:0.94134\ttest-mlogloss:0.98153\n",
      "[400]\ttrain-mlogloss:0.93495\ttest-mlogloss:0.98079\n",
      "[450]\ttrain-mlogloss:0.92937\ttest-mlogloss:0.98025\n",
      "[500]\ttrain-mlogloss:0.92343\ttest-mlogloss:0.97851\n",
      "[550]\ttrain-mlogloss:0.91849\ttest-mlogloss:0.97815\n",
      "[600]\ttrain-mlogloss:0.91419\ttest-mlogloss:0.97724\n",
      "[650]\ttrain-mlogloss:0.90987\ttest-mlogloss:0.97697\n",
      "[700]\ttrain-mlogloss:0.90595\ttest-mlogloss:0.97670\n",
      "[750]\ttrain-mlogloss:0.90199\ttest-mlogloss:0.97633\n",
      "[800]\ttrain-mlogloss:0.89843\ttest-mlogloss:0.97666\n",
      "Stopping. Best iteration:\n",
      "[756]\ttrain-mlogloss:0.90145\ttest-mlogloss:0.97625\n",
      "\n",
      "cv scores  :  [0.9887632307605067, 0.976695730726675, 0.9876062877674086, 0.9825053584949324, 0.9762498643763107]\n"
     ]
    }
   ],
   "source": [
    "kf = model_selection.KFold(n_splits = 5, shuffle = True, random_state = 2017)\n",
    "cv_scores= []\n",
    "pred_full_test = 0\n",
    "pred_train = np.zeros([train_df.shape[0], 3])\n",
    "for dev_index, val_index in kf.split(train_x):\n",
    "    dev_x, val_x = train_x.loc[dev_index], train_x.loc[val_index]\n",
    "    dev_y, val_y = train_y.loc[dev_index], train_y.loc[val_index]\n",
    "    pred_val_y, pred_test_y, model = runXGB(dev_x, dev_y, val_x, val_y, test_x, seed_val=0)\n",
    "    \n",
    "    pred_full_test = pred_full_test + pred_test_y\n",
    "    pred_train[val_index , :] = pred_val_y\n",
    "    cv_scores.append(metrics.log_loss(val_y, pred_val_y))\n",
    "    \n",
    "print('cv scores  : ', cv_scores)"
   ]
  },
  {
   "cell_type": "markdown",
   "metadata": {},
   "source": [
    "> **Text Based Features**"
   ]
  },
  {
   "cell_type": "code",
   "execution_count": 11,
   "metadata": {},
   "outputs": [],
   "source": [
    "# tf-idf \n",
    "\n",
    "tfidf_vec = TfidfVectorizer(stop_words = 'english', ngram_range=(1,3))\n",
    "full_tfidf = tfidf_vec.fit_transform(train_df['text'].values.tolist() + test_df['text'].values.tolist())\n",
    "train_tfidf = tfidf_vec.transform(train_df['text'].values.tolist())\n",
    "test_tfidf = tfidf_vec.transform(test_df['text'].values.tolist())\n"
   ]
  },
  {
   "cell_type": "code",
   "execution_count": 12,
   "metadata": {},
   "outputs": [],
   "source": [
    "# naive bayes model\n",
    "\n",
    "def runMNB(train_x, train_y, test_x, test_y, test_x2):\n",
    "    model = naive_bayes.MultinomialNB()\n",
    "    model.fit(train_x, train_y)\n",
    "    pred_test_y = model.predict_proba(test_x)\n",
    "    pred_test_y2 = model.predict_proba(test_x2)\n",
    "    return pred_test_y, pred_test_y2, model"
   ]
  },
  {
   "cell_type": "code",
   "execution_count": 13,
   "metadata": {},
   "outputs": [
    {
     "name": "stdout",
     "output_type": "stream",
     "text": [
      "Mean cv scores :  0.8422161983612855\n"
     ]
    }
   ],
   "source": [
    "cv_scores = []\n",
    "pred_full_test = 0\n",
    "pred_train = np.zeros([train_df.shape[0], 3 ])\n",
    "kf = model_selection.KFold(n_splits= 5, shuffle = True, random_state = 2017)\n",
    "for dev_index, val_index in kf.split(train_x):\n",
    "    dev_x, val_x = train_tfidf[dev_index], train_tfidf[val_index]\n",
    "    dev_y, val_y = train_y[dev_index], train_y[val_index]\n",
    "    pred_val_y, pred_test_y, model = runMNB(dev_x, dev_y, val_x, val_y, test_tfidf)\n",
    "    pred_full_test = pred_full_test + pred_test_y\n",
    "    pred_train[val_index, : ] = pred_val_y\n",
    "    cv_scores.append(metrics.log_loss(val_y, pred_val_y))\n",
    "print('Mean cv scores : ', np.mean(cv_scores))\n",
    "pred_full_test = pred_full_test / 5.0"
   ]
  },
  {
   "cell_type": "markdown",
   "metadata": {},
   "source": [
    "> **SVD on word TFIDF**"
   ]
  },
  {
   "cell_type": "code",
   "execution_count": 14,
   "metadata": {
    "collapsed": true
   },
   "outputs": [
    {
     "data": {
      "text/html": [
       "<div>\n",
       "<style scoped>\n",
       "    .dataframe tbody tr th:only-of-type {\n",
       "        vertical-align: middle;\n",
       "    }\n",
       "\n",
       "    .dataframe tbody tr th {\n",
       "        vertical-align: top;\n",
       "    }\n",
       "\n",
       "    .dataframe thead th {\n",
       "        text-align: right;\n",
       "    }\n",
       "</style>\n",
       "<table border=\"1\" class=\"dataframe\">\n",
       "  <thead>\n",
       "    <tr style=\"text-align: right;\">\n",
       "      <th></th>\n",
       "      <th>id</th>\n",
       "      <th>text</th>\n",
       "      <th>author</th>\n",
       "      <th>num_words</th>\n",
       "      <th>num_unique_words</th>\n",
       "      <th>num_chars</th>\n",
       "      <th>num_stopwords</th>\n",
       "      <th>num_punctuations</th>\n",
       "      <th>num_words_upper</th>\n",
       "      <th>num_words_title</th>\n",
       "      <th>mean_word_len</th>\n",
       "    </tr>\n",
       "  </thead>\n",
       "  <tbody>\n",
       "    <tr>\n",
       "      <th>0</th>\n",
       "      <td>id26305</td>\n",
       "      <td>This process, however, afforded me no means of...</td>\n",
       "      <td>EAP</td>\n",
       "      <td>41</td>\n",
       "      <td>35</td>\n",
       "      <td>231</td>\n",
       "      <td>19</td>\n",
       "      <td>7</td>\n",
       "      <td>2</td>\n",
       "      <td>3</td>\n",
       "      <td>4.658537</td>\n",
       "    </tr>\n",
       "    <tr>\n",
       "      <th>1</th>\n",
       "      <td>id17569</td>\n",
       "      <td>It never once occurred to me that the fumbling...</td>\n",
       "      <td>HPL</td>\n",
       "      <td>14</td>\n",
       "      <td>14</td>\n",
       "      <td>71</td>\n",
       "      <td>8</td>\n",
       "      <td>1</td>\n",
       "      <td>0</td>\n",
       "      <td>1</td>\n",
       "      <td>4.142857</td>\n",
       "    </tr>\n",
       "    <tr>\n",
       "      <th>2</th>\n",
       "      <td>id11008</td>\n",
       "      <td>In his left hand was a gold snuff box, from wh...</td>\n",
       "      <td>EAP</td>\n",
       "      <td>36</td>\n",
       "      <td>32</td>\n",
       "      <td>200</td>\n",
       "      <td>16</td>\n",
       "      <td>5</td>\n",
       "      <td>0</td>\n",
       "      <td>1</td>\n",
       "      <td>4.583333</td>\n",
       "    </tr>\n",
       "    <tr>\n",
       "      <th>3</th>\n",
       "      <td>id27763</td>\n",
       "      <td>How lovely is spring As we looked from Windsor...</td>\n",
       "      <td>MWS</td>\n",
       "      <td>34</td>\n",
       "      <td>32</td>\n",
       "      <td>206</td>\n",
       "      <td>13</td>\n",
       "      <td>4</td>\n",
       "      <td>0</td>\n",
       "      <td>4</td>\n",
       "      <td>5.088235</td>\n",
       "    </tr>\n",
       "    <tr>\n",
       "      <th>4</th>\n",
       "      <td>id12958</td>\n",
       "      <td>Finding nothing else, not even gold, the Super...</td>\n",
       "      <td>HPL</td>\n",
       "      <td>27</td>\n",
       "      <td>25</td>\n",
       "      <td>174</td>\n",
       "      <td>11</td>\n",
       "      <td>4</td>\n",
       "      <td>0</td>\n",
       "      <td>2</td>\n",
       "      <td>5.481481</td>\n",
       "    </tr>\n",
       "    <tr>\n",
       "      <th>...</th>\n",
       "      <td>...</td>\n",
       "      <td>...</td>\n",
       "      <td>...</td>\n",
       "      <td>...</td>\n",
       "      <td>...</td>\n",
       "      <td>...</td>\n",
       "      <td>...</td>\n",
       "      <td>...</td>\n",
       "      <td>...</td>\n",
       "      <td>...</td>\n",
       "      <td>...</td>\n",
       "    </tr>\n",
       "    <tr>\n",
       "      <th>19574</th>\n",
       "      <td>id17718</td>\n",
       "      <td>I could have fancied, while I looked at it, th...</td>\n",
       "      <td>EAP</td>\n",
       "      <td>20</td>\n",
       "      <td>19</td>\n",
       "      <td>108</td>\n",
       "      <td>11</td>\n",
       "      <td>3</td>\n",
       "      <td>2</td>\n",
       "      <td>2</td>\n",
       "      <td>4.450000</td>\n",
       "    </tr>\n",
       "    <tr>\n",
       "      <th>19575</th>\n",
       "      <td>id08973</td>\n",
       "      <td>The lids clenched themselves together as if in...</td>\n",
       "      <td>EAP</td>\n",
       "      <td>10</td>\n",
       "      <td>10</td>\n",
       "      <td>55</td>\n",
       "      <td>6</td>\n",
       "      <td>1</td>\n",
       "      <td>0</td>\n",
       "      <td>1</td>\n",
       "      <td>4.600000</td>\n",
       "    </tr>\n",
       "    <tr>\n",
       "      <th>19576</th>\n",
       "      <td>id05267</td>\n",
       "      <td>Mais il faut agir that is to say, a Frenchman ...</td>\n",
       "      <td>EAP</td>\n",
       "      <td>13</td>\n",
       "      <td>13</td>\n",
       "      <td>68</td>\n",
       "      <td>4</td>\n",
       "      <td>2</td>\n",
       "      <td>0</td>\n",
       "      <td>2</td>\n",
       "      <td>4.307692</td>\n",
       "    </tr>\n",
       "    <tr>\n",
       "      <th>19577</th>\n",
       "      <td>id17513</td>\n",
       "      <td>For an item of news like this, it strikes us i...</td>\n",
       "      <td>EAP</td>\n",
       "      <td>15</td>\n",
       "      <td>14</td>\n",
       "      <td>74</td>\n",
       "      <td>7</td>\n",
       "      <td>3</td>\n",
       "      <td>0</td>\n",
       "      <td>1</td>\n",
       "      <td>4.000000</td>\n",
       "    </tr>\n",
       "    <tr>\n",
       "      <th>19578</th>\n",
       "      <td>id00393</td>\n",
       "      <td>He laid a gnarled claw on my shoulder, and it ...</td>\n",
       "      <td>HPL</td>\n",
       "      <td>22</td>\n",
       "      <td>21</td>\n",
       "      <td>109</td>\n",
       "      <td>14</td>\n",
       "      <td>2</td>\n",
       "      <td>0</td>\n",
       "      <td>1</td>\n",
       "      <td>4.000000</td>\n",
       "    </tr>\n",
       "  </tbody>\n",
       "</table>\n",
       "<p>19579 rows × 11 columns</p>\n",
       "</div>"
      ],
      "text/plain": [
       "            id                                               text author  \\\n",
       "0      id26305  This process, however, afforded me no means of...    EAP   \n",
       "1      id17569  It never once occurred to me that the fumbling...    HPL   \n",
       "2      id11008  In his left hand was a gold snuff box, from wh...    EAP   \n",
       "3      id27763  How lovely is spring As we looked from Windsor...    MWS   \n",
       "4      id12958  Finding nothing else, not even gold, the Super...    HPL   \n",
       "...        ...                                                ...    ...   \n",
       "19574  id17718  I could have fancied, while I looked at it, th...    EAP   \n",
       "19575  id08973  The lids clenched themselves together as if in...    EAP   \n",
       "19576  id05267  Mais il faut agir that is to say, a Frenchman ...    EAP   \n",
       "19577  id17513  For an item of news like this, it strikes us i...    EAP   \n",
       "19578  id00393  He laid a gnarled claw on my shoulder, and it ...    HPL   \n",
       "\n",
       "       num_words  num_unique_words  num_chars  num_stopwords  \\\n",
       "0             41                35        231             19   \n",
       "1             14                14         71              8   \n",
       "2             36                32        200             16   \n",
       "3             34                32        206             13   \n",
       "4             27                25        174             11   \n",
       "...          ...               ...        ...            ...   \n",
       "19574         20                19        108             11   \n",
       "19575         10                10         55              6   \n",
       "19576         13                13         68              4   \n",
       "19577         15                14         74              7   \n",
       "19578         22                21        109             14   \n",
       "\n",
       "       num_punctuations  num_words_upper  num_words_title  mean_word_len  \n",
       "0                     7                2                3       4.658537  \n",
       "1                     1                0                1       4.142857  \n",
       "2                     5                0                1       4.583333  \n",
       "3                     4                0                4       5.088235  \n",
       "4                     4                0                2       5.481481  \n",
       "...                 ...              ...              ...            ...  \n",
       "19574                 3                2                2       4.450000  \n",
       "19575                 1                0                1       4.600000  \n",
       "19576                 2                0                2       4.307692  \n",
       "19577                 3                0                1       4.000000  \n",
       "19578                 2                0                1       4.000000  \n",
       "\n",
       "[19579 rows x 11 columns]"
      ]
     },
     "execution_count": 14,
     "metadata": {},
     "output_type": "execute_result"
    }
   ],
   "source": [
    "train_df"
   ]
  },
  {
   "cell_type": "code",
   "execution_count": 15,
   "metadata": {},
   "outputs": [],
   "source": [
    "n_comp = 20\n",
    "svd_obj = TruncatedSVD(n_components=n_comp, algorithm = 'arpack')\n",
    "svd_obj.fit(full_tfidf)\n",
    "train_svd = pd.DataFrame(svd_obj.transform(train_tfidf))\n",
    "test_svd = pd.DataFrame(svd_obj.transform(test_tfidf))\n",
    "\n",
    "train_svd.columns = ['svd_word_'+str(i) for i in range(n_comp)]\n",
    "test_svd.columns = ['svd_word_'+str(i) for i in range(n_comp)]\n",
    "train_df = pd.concat([train_df, train_svd], axis=1)\n",
    "test_df = pd.concat([test_df, test_svd], axis=1)\n",
    "\n",
    "# del full_tfidf, train_tf,idf, test_tfidf, train_svd, test_svd"
   ]
  },
  {
   "cell_type": "markdown",
   "metadata": {},
   "source": [
    "> **Naive Bayes on Word Count Vectorizer**"
   ]
  },
  {
   "cell_type": "code",
   "execution_count": 16,
   "metadata": {},
   "outputs": [],
   "source": [
    "wc_vec = CountVectorizer(stop_words='english', ngram_range=(1,3))\n",
    "wc_vec.fit(train_df['text'].values.tolist() + test_df['text'].values.tolist())\n",
    "train_wc_vec = wc_vec.transform(train_df['text'].values.tolist())\n",
    "test_wc_vec = wc_vec.transform(test_df['text'].values.tolist())"
   ]
  },
  {
   "cell_type": "code",
   "execution_count": 17,
   "metadata": {},
   "outputs": [
    {
     "name": "stdout",
     "output_type": "stream",
     "text": [
      "Mean cv score :  0.45091841616567435\n"
     ]
    }
   ],
   "source": [
    "cv_scores = []\n",
    "pred_full_test = 0\n",
    "pred_train = np.zeros([train_df.shape[0], 3])\n",
    "kf = model_selection.KFold(n_splits=5, shuffle=True, random_state=2017)\n",
    "for dev_index, val_index in kf.split(train_x):\n",
    "    dev_x, val_x = train_wc_vec[dev_index], train_wc_vec[val_index]\n",
    "    dev_y, val_y = train_y[dev_index], train_y[val_index]\n",
    "    pred_val_y, pred_test_y, model = runMNB(dev_x, dev_y, val_x, val_y, test_wc_vec)\n",
    "    pred_full_test = pred_full_test + pred_test_y\n",
    "    pred_train[val_index, : ] = pred_val_y\n",
    "    cv_scores.append(metrics.log_loss(val_y, pred_val_y))\n",
    "print('Mean cv score : ', np.mean(cv_scores))\n",
    "pred_full_test = pred_full_test / 5.0\n",
    "\n",
    "#add the predictions as new features\n",
    "train_df['nb_cvec_eap'] = pred_train[ : , 0]\n",
    "train_df['nb_cvec_hpl'] = pred_train[ : , 1]\n",
    "train_df['nb_cvec_mws'] = pred_train[ : , 2]\n",
    "\n",
    "test_df['nb_cvec_eap'] = pred_full_test[ : , 0]\n",
    "test_df['nb_cvec_hpl'] = pred_full_test[ : , 1]\n",
    "test_df['nb_cvec_mws'] = pred_full_test[ : , 2]"
   ]
  },
  {
   "cell_type": "markdown",
   "metadata": {},
   "source": [
    "> **Naive Bayes on Character Count Vectorizer**"
   ]
  },
  {
   "cell_type": "code",
   "execution_count": 18,
   "metadata": {},
   "outputs": [
    {
     "name": "stdout",
     "output_type": "stream",
     "text": [
      "Mean cv score :  3.7507639226818825\n"
     ]
    }
   ],
   "source": [
    "tfidf_vec = CountVectorizer(ngram_range = (1,7), analyzer='char')\n",
    "tfidf_vec.fit(train_df['text'].values.tolist() + test_df['text'].values.tolist())\n",
    "train_tfidf = tfidf_vec.transform(train_df['text'].values.tolist())\n",
    "test_tfidf = tfidf_vec.transform(test_df['text'].values.tolist())\n",
    "\n",
    "cv_scores = []\n",
    "pred_full_test = 0\n",
    "pred_train = np.zeros([train_df.shape[0], 3])\n",
    "kf = model_selection.KFold(n_splits = 5, shuffle =True, random_state=2017)\n",
    "for dev_index, val_index in kf.split(train_x):\n",
    "    dev_x, val_x = train_tfidf[dev_index], train_tfidf[val_index]\n",
    "    dev_y, val_y = train_y[dev_index], train_y[val_index]\n",
    "    pred_val_y, pred_test_y, model = runMNB(dev_x, dev_y, val_x, val_y, test_tfidf)\n",
    "    pred_full_test = pred_full_test + pred_test_y\n",
    "    pred_train[val_index, :] = pred_val_y\n",
    "    cv_scores.append(metrics.log_loss(val_y, pred_val_y))\n",
    "print('Mean cv score : ', np.mean(cv_scores))\n",
    "pred_full_test = pred_full_test / 5.\n",
    "\n",
    "train_df['nb_cvec_char_eap'] = pred_train[:,0]\n",
    "train_df['nb_cvec_char_hpl'] = pred_train[:,1]\n",
    "train_df['nb_cvec_char_mws'] = pred_train[:,2]\n",
    "\n",
    "test_df['nb_cvec_char_eap'] = pred_full_test[:,0]\n",
    "test_df['nb_cvec_char_hpl'] = pred_full_test[:,1]\n",
    "test_df['nb_cvec_char_mws'] = pred_full_test[:,2]"
   ]
  },
  {
   "cell_type": "code",
   "execution_count": 19,
   "metadata": {},
   "outputs": [
    {
     "name": "stdout",
     "output_type": "stream",
     "text": [
      "mean cv score :  0.790415258947421\n"
     ]
    }
   ],
   "source": [
    "tfidf_vec = TfidfVectorizer(ngram_range=(1,5), analyzer='char')\n",
    "full_tfidf = tfidf_vec.fit_transform(train_df['text'].values.tolist() + test_df['text'].values.tolist())\n",
    "train_tfidf = tfidf_vec.transform(train_df['text'].values.tolist())\n",
    "test_tfidf = tfidf_vec.transform(test_df['text'].values.tolist())\n",
    "\n",
    "cv_scores = []\n",
    "pred_full_test = 0\n",
    "pred_train = np.zeros([train_df.shape[0],3])\n",
    "kf = model_selection.KFold(n_splits=5, shuffle=True, random_state=2017)\n",
    "for dev_index, val_index in kf.split(train_x):\n",
    "    dev_x, val_x = train_tfidf[dev_index], train_tfidf[val_index]\n",
    "    dev_y, val_y = train_y[dev_index], train_y[val_index]\n",
    "    pred_val_y, pred_test_y, model = runMNB(dev_x, dev_y, val_x, val_y, test_tfidf)\n",
    "    pred_full_test = pred_full_test + pred_test_y\n",
    "    pred_train[val_index, : ] = pred_val_y\n",
    "    cv_scores.append(metrics.log_loss(val_y, pred_val_y))\n",
    "print('mean cv score : ', np.mean(cv_scores))\n",
    "pred_full_test = pred_full_test / 5.0\n",
    "\n",
    "train_df['nb_tfidf_char_eap'] = pred_train[:,0]\n",
    "train_df['nb_tfidf_char_hpl'] = pred_train[:,1]\n",
    "train_df['nb_tfidf_char_mws'] = pred_train[:,2]\n",
    "\n",
    "test_df[\"nb_tfidf_char_eap\"] = pred_full_test[:,0]\n",
    "test_df[\"nb_tfidf_char_hpl\"] = pred_full_test[:,1]\n",
    "test_df[\"nb_tfidf_char_mws\"] = pred_full_test[:,2]"
   ]
  },
  {
   "cell_type": "markdown",
   "metadata": {},
   "source": [
    "> **SVD on Character TFIDF**"
   ]
  },
  {
   "cell_type": "code",
   "execution_count": 20,
   "metadata": {},
   "outputs": [],
   "source": [
    "n_comp = 20\n",
    "svd_obj = TruncatedSVD(n_components = n_comp, algorithm='arpack')\n",
    "svd_obj.fit(full_tfidf)\n",
    "train_svd = pd.DataFrame(svd_obj.transform(train_tfidf))\n",
    "test_svd = pd.DataFrame(svd_obj.transform(test_tfidf))\n",
    "\n",
    "train_svd.columns = ['svd_char_'+str(i) for i in range(n_comp)]\n",
    "test_svd.columns = ['svd_char_'+str(i) for i in range(n_comp)]\n",
    "train_df = pd.concat([train_df, train_svd], axis=1)\n",
    "test_df = pd.concat([test_df, test_svd], axis=1)\n",
    "del full_tfidf, train_tfidf, test_tfidf, train_svd, test_svd"
   ]
  },
  {
   "cell_type": "markdown",
   "metadata": {},
   "source": [
    "> **XGBOOST**"
   ]
  },
  {
   "cell_type": "code",
   "execution_count": 21,
   "metadata": {},
   "outputs": [
    {
     "name": "stdout",
     "output_type": "stream",
     "text": [
      "[0]\ttrain-mlogloss:1.00354\ttest-mlogloss:1.00354\n",
      "Multiple eval metrics have been passed: 'test-mlogloss' will be used for early stopping.\n",
      "\n",
      "Will train until test-mlogloss hasn't improved in 50 rounds.\n",
      "[50]\ttrain-mlogloss:0.32453\ttest-mlogloss:0.34035\n",
      "[100]\ttrain-mlogloss:0.28281\ttest-mlogloss:0.31811\n",
      "[150]\ttrain-mlogloss:0.25774\ttest-mlogloss:0.31041\n",
      "[200]\ttrain-mlogloss:0.23812\ttest-mlogloss:0.30829\n",
      "[250]\ttrain-mlogloss:0.22205\ttest-mlogloss:0.30596\n",
      "[300]\ttrain-mlogloss:0.20734\ttest-mlogloss:0.30617\n",
      "Stopping. Best iteration:\n",
      "[251]\ttrain-mlogloss:0.22165\ttest-mlogloss:0.30592\n",
      "\n",
      "[0]\ttrain-mlogloss:1.00352\ttest-mlogloss:1.00477\n",
      "Multiple eval metrics have been passed: 'test-mlogloss' will be used for early stopping.\n",
      "\n",
      "Will train until test-mlogloss hasn't improved in 50 rounds.\n",
      "[50]\ttrain-mlogloss:0.32270\ttest-mlogloss:0.34499\n",
      "[100]\ttrain-mlogloss:0.27922\ttest-mlogloss:0.32354\n",
      "[150]\ttrain-mlogloss:0.25462\ttest-mlogloss:0.31807\n",
      "[200]\ttrain-mlogloss:0.23522\ttest-mlogloss:0.31463\n",
      "[250]\ttrain-mlogloss:0.21840\ttest-mlogloss:0.31289\n",
      "[300]\ttrain-mlogloss:0.20401\ttest-mlogloss:0.31191\n",
      "[350]\ttrain-mlogloss:0.19109\ttest-mlogloss:0.31109\n",
      "Stopping. Best iteration:\n",
      "[349]\ttrain-mlogloss:0.19142\ttest-mlogloss:0.31107\n",
      "\n",
      "[0]\ttrain-mlogloss:1.00303\ttest-mlogloss:1.00424\n",
      "Multiple eval metrics have been passed: 'test-mlogloss' will be used for early stopping.\n",
      "\n",
      "Will train until test-mlogloss hasn't improved in 50 rounds.\n",
      "[50]\ttrain-mlogloss:0.32123\ttest-mlogloss:0.35045\n",
      "[100]\ttrain-mlogloss:0.27863\ttest-mlogloss:0.33074\n",
      "[150]\ttrain-mlogloss:0.25345\ttest-mlogloss:0.32415\n",
      "[200]\ttrain-mlogloss:0.23407\ttest-mlogloss:0.32198\n",
      "[250]\ttrain-mlogloss:0.21744\ttest-mlogloss:0.32068\n",
      "[300]\ttrain-mlogloss:0.20270\ttest-mlogloss:0.32028\n",
      "Stopping. Best iteration:\n",
      "[271]\ttrain-mlogloss:0.21104\ttest-mlogloss:0.31998\n",
      "\n",
      "[0]\ttrain-mlogloss:1.00356\ttest-mlogloss:1.00319\n",
      "Multiple eval metrics have been passed: 'test-mlogloss' will be used for early stopping.\n",
      "\n",
      "Will train until test-mlogloss hasn't improved in 50 rounds.\n",
      "[50]\ttrain-mlogloss:0.32520\ttest-mlogloss:0.33625\n",
      "[100]\ttrain-mlogloss:0.28262\ttest-mlogloss:0.31307\n",
      "[150]\ttrain-mlogloss:0.25798\ttest-mlogloss:0.30676\n",
      "[200]\ttrain-mlogloss:0.23864\ttest-mlogloss:0.30367\n",
      "[250]\ttrain-mlogloss:0.22259\ttest-mlogloss:0.30182\n",
      "[300]\ttrain-mlogloss:0.20779\ttest-mlogloss:0.30245\n",
      "Stopping. Best iteration:\n",
      "[258]\ttrain-mlogloss:0.21998\ttest-mlogloss:0.30159\n",
      "\n",
      "[0]\ttrain-mlogloss:1.00168\ttest-mlogloss:1.00278\n",
      "Multiple eval metrics have been passed: 'test-mlogloss' will be used for early stopping.\n",
      "\n",
      "Will train until test-mlogloss hasn't improved in 50 rounds.\n",
      "[50]\ttrain-mlogloss:0.32381\ttest-mlogloss:0.34590\n",
      "[100]\ttrain-mlogloss:0.28124\ttest-mlogloss:0.32294\n",
      "[150]\ttrain-mlogloss:0.25625\ttest-mlogloss:0.31636\n",
      "[200]\ttrain-mlogloss:0.23688\ttest-mlogloss:0.31374\n",
      "[250]\ttrain-mlogloss:0.22078\ttest-mlogloss:0.31167\n",
      "[300]\ttrain-mlogloss:0.20635\ttest-mlogloss:0.31031\n",
      "[350]\ttrain-mlogloss:0.19271\ttest-mlogloss:0.30956\n",
      "[400]\ttrain-mlogloss:0.18083\ttest-mlogloss:0.30974\n",
      "Stopping. Best iteration:\n",
      "[366]\ttrain-mlogloss:0.18890\ttest-mlogloss:0.30926\n",
      "\n",
      "cv scores :  [0.3059230228040024, 0.31106815099011015, 0.3199744554020125, 0.301592098141172, 0.3092563858119304]\n"
     ]
    }
   ],
   "source": [
    "cols_to_drop=['id', 'text']\n",
    "train_x = train_df.drop(cols_to_drop + ['author'], axis=1)\n",
    "test_x = test_df.drop(cols_to_drop, axis=1)\n",
    "\n",
    "kf = model_selection.KFold(n_splits = 5, shuffle=True, random_state=2017)\n",
    "cv_scores = []\n",
    "pred_full_test = 0\n",
    "pred_train = np.zeros([train_df.shape[0], 3])\n",
    "for dev_index, val_index in kf.split(train_x):\n",
    "    dev_x, val_x = train_x.loc[dev_index], train_x.loc[val_index]\n",
    "    dev_y, val_y = train_y[dev_index], train_y[val_index]\n",
    "    pred_val_y, pred_test_y, model = runXGB(dev_x, dev_y, val_x,val_y, test_x, seed_val = 0, colsample=0.7)\n",
    "    pred_full_test += pred_test_y\n",
    "    pred_train[val_index, : ] = pred_val_y\n",
    "    cv_scores.append(metrics.log_loss(val_y, pred_val_y))\n",
    "print('cv scores : ', cv_scores)\n",
    "\n",
    "out_df = pd.DataFrame(pred_full_test)\n",
    "out_df.columns = ['EAP', 'HPL', 'MWS']\n",
    "out_df.insert(0, 'id', test_id)\n"
   ]
  },
  {
   "cell_type": "code",
   "execution_count": 22,
   "metadata": {},
   "outputs": [
    {
     "data": {
      "text/plain": [
       "Index(['num_words', 'num_unique_words', 'num_chars', 'num_stopwords',\n",
       "       'num_punctuations', 'num_words_upper', 'num_words_title',\n",
       "       'mean_word_len', 'svd_word_0', 'svd_word_1', 'svd_word_2', 'svd_word_3',\n",
       "       'svd_word_4', 'svd_word_5', 'svd_word_6', 'svd_word_7', 'svd_word_8',\n",
       "       'svd_word_9', 'svd_word_10', 'svd_word_11', 'svd_word_12',\n",
       "       'svd_word_13', 'svd_word_14', 'svd_word_15', 'svd_word_16',\n",
       "       'svd_word_17', 'svd_word_18', 'svd_word_19', 'nb_cvec_eap',\n",
       "       'nb_cvec_hpl', 'nb_cvec_mws', 'nb_cvec_char_eap', 'nb_cvec_char_hpl',\n",
       "       'nb_cvec_char_mws', 'nb_tfidf_char_eap', 'nb_tfidf_char_hpl',\n",
       "       'nb_tfidf_char_mws', 'svd_char_0', 'svd_char_1', 'svd_char_2',\n",
       "       'svd_char_3', 'svd_char_4', 'svd_char_5', 'svd_char_6', 'svd_char_7',\n",
       "       'svd_char_8', 'svd_char_9', 'svd_char_10', 'svd_char_11', 'svd_char_12',\n",
       "       'svd_char_13', 'svd_char_14', 'svd_char_15', 'svd_char_16',\n",
       "       'svd_char_17', 'svd_char_18', 'svd_char_19'],\n",
       "      dtype='object')"
      ]
     },
     "execution_count": 22,
     "metadata": {},
     "output_type": "execute_result"
    }
   ],
   "source": [
    "dev_x.columns"
   ]
  }
 ],
 "metadata": {
  "kernelspec": {
   "display_name": "Python 3",
   "language": "python",
   "name": "python3"
  },
  "language_info": {
   "codemirror_mode": {
    "name": "ipython",
    "version": 3
   },
   "file_extension": ".py",
   "mimetype": "text/x-python",
   "name": "python",
   "nbconvert_exporter": "python",
   "pygments_lexer": "ipython3",
   "version": "3.7.5"
  }
 },
 "nbformat": 4,
 "nbformat_minor": 4
}
